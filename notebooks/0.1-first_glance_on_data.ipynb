{
 "cells": [
  {
   "cell_type": "code",
   "execution_count": null,
   "metadata": {},
   "outputs": [],
   "source": [
    "import os\n",
    "import io\n",
    "import zipfile\n",
    "\n",
    "import xml.etree.ElementTree as ET"
   ]
  },
  {
   "cell_type": "code",
   "execution_count": null,
   "metadata": {},
   "outputs": [],
   "source": [
    "raw_path = \"../data/raw\"\n",
    "interim_path = \"../data/interim\"\n",
    "export_path = \"apple_health_export\"\n",
    "\n",
    "archive_name = \"export.zip\"\n",
    "data_name = \"export.xml\"\n",
    "\n",
    "data = os.path.join(interim_path, export_path, data_name)"
   ]
  },
  {
   "cell_type": "markdown",
   "metadata": {},
   "source": [
    "First, unzip the by the Health App exported archive."
   ]
  },
  {
   "cell_type": "code",
   "execution_count": null,
   "metadata": {},
   "outputs": [],
   "source": [
    "# only unzip if it does not exist\n",
    "if not os.path.exists(data):\n",
    "\n",
    "    with open(os.path.join(raw_path, archive_name), \"rb\") as file:\n",
    "        zip_file_bytes = io.BytesIO(file.read())\n",
    "        zipped_export = zipfile.ZipFile(zip_file_bytes)\n",
    "        zipped_export.extractall(interim_path)"
   ]
  },
  {
   "cell_type": "markdown",
   "metadata": {},
   "source": [
    "### DOCTYPE of `export.xml`\n",
    "\n",
    "**HealthKit Export Version:** 11\n",
    "\n",
    "By check the `DOCTYPE` definition of the file `report.xml` the following data structure could be found.\n",
    "\n",
    "#### Data Structure\n",
    "\n",
    "- HealthData\n",
    "    - (1) ExportDate\n",
    "    - (1) Me\n",
    "    - (any number of the following)\n",
    "        - Record\n",
    "        - Correlation\n",
    "        - Workout\n",
    "        - ActivitySummary\n",
    "        - ClinicalRecord\n",
    "\n",
    "#### Element Description\n",
    "\n",
    "**ExportDate:**\n",
    "\n",
    "Time of export.\n",
    "\n",
    "**Me:**\n",
    "\n",
    "- Date of Birth\n",
    "- Sex\n",
    "- Blood Type\n",
    "- Fitzpatrick Skin Type\n",
    "\n",
    "**Record*:**\n",
    "\n",
    "- type\n",
    "- unit\n",
    "- value\n",
    "- sourceName\n",
    "- sourceVersion\n",
    "- device\n",
    "- creationDate\n",
    "- startDate\n",
    "- endDate\n",
    "\n",
    "**Workout*:**\n",
    "\n",
    "- workoutActivityType\n",
    "- duration\n",
    "- durationUnit\n",
    "- totalDistance\n",
    "- totalDistanceUnit\n",
    "- totalEnergyBurned\n",
    "- totalEnergyBurnedUnit\n",
    "- sourceName\n",
    "- sourceVersion\n",
    "- device\n",
    "- creationDate\n",
    "- startDate\n",
    "- endDate\n",
    "\n",
    "**Correlation*:**\n",
    "\n",
    "- type\n",
    "- sourceName\n",
    "- sourceVersion\n",
    "- device\n",
    "- creationDate\n",
    "- startDate\n",
    "- endDate\n",
    "\n",
    "**ActivitySummary:**\n",
    "\n",
    "- dateComponents\n",
    "- activeEnergyBurned\n",
    "- activeEnergyBurnedGoal\n",
    "- activeEnergyBurnedUnit\n",
    "- appleMoveMinutes\n",
    "- appleMoveMinutesGoal\n",
    "- appleExerciseTime\n",
    "- appleExerciseTimeGoal\n",
    "- appleStandHours\n",
    "- appleStandHoursGoal\n",
    "\n",
    "**ClinicalRecord:**\n",
    "\n",
    "- type\n",
    "- identifier\n",
    "- sourceName\n",
    "- sourceURL\n",
    "- fhirVersion\n",
    "- receivedDate\n",
    "- resourceFilePath\n",
    "\n",
    "\\* - Could be of specific type which introduces some more fields."
   ]
  },
  {
   "cell_type": "markdown",
   "metadata": {},
   "source": [
    "### Check some Entries\n",
    "\n",
    "Parse and analyze the `export.xml` file."
   ]
  },
  {
   "cell_type": "code",
   "execution_count": null,
   "metadata": {},
   "outputs": [],
   "source": [
    "tree = ET.parse(data)\n",
    "print(tree)\n",
    "tree.getroot()[:10]"
   ]
  },
  {
   "cell_type": "markdown",
   "metadata": {},
   "source": [
    "Attributes of `root`\n",
    " element."
   ]
  },
  {
   "cell_type": "code",
   "execution_count": null,
   "metadata": {},
   "outputs": [],
   "source": [
    "root_element = tree.getroot()\n",
    "\n",
    "for attribute in root_element.keys():\n",
    "    print(f\"{attribute + ':': <5} {root_element.get(attribute)}\")"
   ]
  },
  {
   "cell_type": "markdown",
   "metadata": {},
   "source": [
    "Attributes of `ExportDate` element."
   ]
  },
  {
   "cell_type": "code",
   "execution_count": null,
   "metadata": {},
   "outputs": [],
   "source": [
    "export_date_element = root_element[0]\n",
    "\n",
    "for attribute in export_date_element.keys():\n",
    "    print(f\"{attribute + ':': <7}{export_date_element.get(attribute)}\")"
   ]
  },
  {
   "cell_type": "markdown",
   "metadata": {},
   "source": [
    "Attributes of `Me` element:"
   ]
  },
  {
   "cell_type": "code",
   "execution_count": null,
   "metadata": {},
   "outputs": [],
   "source": [
    "me_element = root_element[1]\n",
    "\n",
    "for attribute in me_element.keys():\n",
    "    print(f\"{attribute + ':': <51}{me_element.get(attribute)}\")"
   ]
  },
  {
   "cell_type": "markdown",
   "metadata": {},
   "source": [
    "Attributes of `Record` element:"
   ]
  },
  {
   "cell_type": "code",
   "execution_count": null,
   "metadata": {},
   "outputs": [],
   "source": [
    "record_element = root_element[3]\n",
    "\n",
    "for attribute in record_element.keys():\n",
    "    print(f\"{attribute + ':':<15} {record_element.get(attribute)}\")"
   ]
  }
 ],
 "metadata": {
  "kernelspec": {
   "display_name": "Python 3",
   "language": "python",
   "name": "python3"
  },
  "language_info": {
   "codemirror_mode": {
    "name": "ipython",
    "version": 3
   },
   "file_extension": ".py",
   "mimetype": "text/x-python",
   "name": "python",
   "nbconvert_exporter": "python",
   "pygments_lexer": "ipython3",
   "version": "3.7.6"
  }
 },
 "nbformat": 4,
 "nbformat_minor": 4
}
