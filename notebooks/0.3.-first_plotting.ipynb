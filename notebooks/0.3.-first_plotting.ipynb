{
 "cells": [
  {
   "cell_type": "code",
   "execution_count": null,
   "metadata": {},
   "outputs": [],
   "source": [
    "import pandas as pd\n",
    "\n",
    "import seaborn as sns\n",
    "\n",
    "from health_tracking import AppleHealthParser\n",
    "\n",
    "%matplotlib inline"
   ]
  },
  {
   "cell_type": "code",
   "execution_count": null,
   "metadata": {},
   "outputs": [],
   "source": [
    "parser = AppleHealthParser()"
   ]
  },
  {
   "cell_type": "code",
   "execution_count": null,
   "metadata": {},
   "outputs": [],
   "source": [
    "workouts_df, workout_types = parser.extract_workouts()\n",
    "workout_types"
   ]
  },
  {
   "cell_type": "markdown",
   "metadata": {},
   "source": [
    "Pick the recorded running workouts."
   ]
  },
  {
   "cell_type": "code",
   "execution_count": null,
   "metadata": {},
   "outputs": [],
   "source": [
    "running_df = workouts_df[workouts_df[\"workoutActivityType\"] == \"running\"].copy().reset_index()\n",
    "running_df.head()"
   ]
  },
  {
   "cell_type": "markdown",
   "metadata": {},
   "source": [
    "#### Create `minutesPerKm` Column"
   ]
  },
  {
   "cell_type": "code",
   "execution_count": null,
   "metadata": {},
   "outputs": [],
   "source": [
    "def minutes_per_km(row):\n",
    "    result = 0\n",
    "    try:\n",
    "        result = row[\"duration\"] / row[\"totalDistance\"]\n",
    "    \n",
    "    except:\n",
    "        pass\n",
    "    \n",
    "    return result\n",
    "\n",
    "running_df[\"minutesPerKm\"] = running_df.apply(minutes_per_km, axis=1)\n",
    "running_df.head()"
   ]
  },
  {
   "cell_type": "markdown",
   "metadata": {},
   "source": [
    "#### Remove Outliers\n",
    "\n",
    "Removing values above 8 and below 4 minutes/km."
   ]
  },
  {
   "cell_type": "code",
   "execution_count": null,
   "metadata": {},
   "outputs": [],
   "source": [
    "running_df = running_df[(running_df[\"minutesPerKm\"] <= 8) & (running_df[\"minutesPerKm\"] >= 4)]"
   ]
  },
  {
   "cell_type": "markdown",
   "metadata": {},
   "source": [
    "#### Plot `minutesPerKm`"
   ]
  },
  {
   "cell_type": "code",
   "execution_count": null,
   "metadata": {},
   "outputs": [],
   "source": [
    "sns.jointplot(range(running_df.shape[0]), \"minutesPerKm\", data=running_df, kind=\"reg\", xlim=(-5, running_df.shape[0] + 5))"
   ]
  },
  {
   "cell_type": "markdown",
   "metadata": {},
   "source": [
    "#### Use \"Natural Distance\" for Days\n",
    "\n",
    "It's not possible to plot a timestamp. Therefore, use day offsets starting with the first training day.\n",
    "\n",
    "Fixing distance of time axis (x-axis)for workouts, increases the \"correctness\" of the plot."
   ]
  },
  {
   "cell_type": "code",
   "execution_count": null,
   "metadata": {},
   "outputs": [],
   "source": [
    "first_workout = running_df[\"creationDate\"][0]\n",
    "last_workout = running_df[\"creationDate\"][running_df.shape[0]]"
   ]
  },
  {
   "cell_type": "code",
   "execution_count": null,
   "metadata": {},
   "outputs": [],
   "source": [
    "running_df[\"dayOffset\"] = running_df.apply(lambda row: (row[\"creationDate\"] - first_workout).days, axis=1)"
   ]
  },
  {
   "cell_type": "code",
   "execution_count": null,
   "metadata": {},
   "outputs": [],
   "source": [
    "jointplot = sns.jointplot(\"dayOffset\", \"minutesPerKm\", data=running_df, kind=\"reg\", xlim=(-10, running_df[\"dayOffset\"].max() + 10))"
   ]
  },
  {
   "cell_type": "markdown",
   "metadata": {},
   "source": [
    "#### Combine `minutesPerKm` and `totalDistance`\n",
    "\n",
    "Add vertical lines for new years."
   ]
  },
  {
   "cell_type": "code",
   "execution_count": null,
   "metadata": {},
   "outputs": [],
   "source": [
    "def get_year_offsets(first_workout, last_workout):\n",
    "    \n",
    "    new_years = last_workout.year - first_workout.year\n",
    "    result = []\n",
    "    \n",
    "    for i in range(new_years):\n",
    "        new_year_offset = pd.Timestamp(f\"1.1.{first_workout.year + i + 1}\", tz=first_workout.tz) - first_workout\n",
    "        result.append(new_year_offset.days)\n",
    "    \n",
    "    return result"
   ]
  },
  {
   "cell_type": "code",
   "execution_count": null,
   "metadata": {},
   "outputs": [],
   "source": [
    "scatter = sns.scatterplot(\"dayOffset\", \"minutesPerKm\", data=running_df, hue=\"totalDistance\", )\n",
    "\n",
    "max_y = running_df[\"minutesPerKm\"].max()\n",
    "\n",
    "for new_year_offset in get_year_offsets(first_workout, last_workout):\n",
    "    scatter.axvline(new_year_offset, 0, max_y)"
   ]
  },
  {
   "cell_type": "code",
   "execution_count": null,
   "metadata": {},
   "outputs": [],
   "source": []
  },
  {
   "cell_type": "code",
   "execution_count": null,
   "metadata": {},
   "outputs": [],
   "source": []
  },
  {
   "cell_type": "markdown",
   "metadata": {},
   "source": [
    "## Same Plots as above with Package Functions"
   ]
  },
  {
   "cell_type": "code",
   "execution_count": null,
   "metadata": {},
   "outputs": [],
   "source": [
    "from health_tracking.workouts import Workouts"
   ]
  },
  {
   "cell_type": "code",
   "execution_count": null,
   "metadata": {},
   "outputs": [],
   "source": [
    "workouts = Workouts()"
   ]
  },
  {
   "cell_type": "code",
   "execution_count": null,
   "metadata": {},
   "outputs": [],
   "source": [
    "workouts.workout_types"
   ]
  },
  {
   "cell_type": "code",
   "execution_count": null,
   "metadata": {},
   "outputs": [],
   "source": [
    "workouts[\"runnings\"].head()"
   ]
  },
  {
   "cell_type": "code",
   "execution_count": null,
   "metadata": {},
   "outputs": [],
   "source": [
    "joint_plot = workouts.plot(\"dayOffset\", \"minutesPerKm\", \"joint\", outlier=(4, 8))"
   ]
  },
  {
   "cell_type": "code",
   "execution_count": null,
   "metadata": {},
   "outputs": [],
   "source": [
    "scatter_plot = workouts.plot(\"dayOffset\", \"minutesPerKm\", \"scatter\", z=\"totalDistance\", outlier=(4, 8))"
   ]
  },
  {
   "cell_type": "code",
   "execution_count": null,
   "metadata": {},
   "outputs": [],
   "source": []
  }
 ],
 "metadata": {
  "kernelspec": {
   "display_name": "Python 3",
   "language": "python",
   "name": "python3"
  },
  "language_info": {
   "codemirror_mode": {
    "name": "ipython",
    "version": 3
   },
   "file_extension": ".py",
   "mimetype": "text/x-python",
   "name": "python",
   "nbconvert_exporter": "python",
   "pygments_lexer": "ipython3",
   "version": "3.7.6"
  }
 },
 "nbformat": 4,
 "nbformat_minor": 4
}
